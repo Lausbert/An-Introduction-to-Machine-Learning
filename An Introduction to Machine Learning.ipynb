{
 "cells": [
  {
   "cell_type": "markdown",
   "metadata": {
    "slideshow": {
     "slide_type": "slide"
    }
   },
   "source": [
    "# An Introduction to Machine Learning\n",
    "---\n",
    "![](images/tweet.png)\n",
    "![](images/googletrend.png)\n",
    "<sub><sup>Source: https://twitter.com/fchollet</sup></sub>"
   ]
  },
  {
   "cell_type": "code",
   "execution_count": 1,
   "metadata": {
    "slideshow": {
     "slide_type": "skip"
    }
   },
   "outputs": [],
   "source": [
    "import pandas as pd\n",
    "import numpy as np\n",
    "import matplotlib.pyplot as plt\n",
    "\n",
    "font = {'family' : 'DejaVu Sans',\n",
    "        'weight' : 'normal',\n",
    "        'size'   : 18}\n",
    "\n",
    "plt.rc('font', **font)\n",
    "\n",
    "dataframe = pd.read_csv(\"data/slr03.csv\")\n",
    "data = dataframe.values[:,:]\n",
    "sand_granules_diameter = data[:,0]\n",
    "beach_slope = data[:,1]\n",
    "\n",
    "def plot_data(x, y, xlabel, ylabel):\n",
    "    plt.xlabel(xlabel)\n",
    "    plt.ylabel(ylabel)\n",
    "    plt.plot(x, y, \"ko\")    \n",
    "    plt.xlim(xmin=0)\n",
    "    plt.ylim(ymin=0)\n",
    "    \n",
    "def plot_regression(x, y, relative_regression_error_a, plot_error):\n",
    "    a,b = np.polyfit(x, y, 1)\n",
    "    a = (1 + relative_regression_error_a)*a\n",
    "    y_estimated = [a*i + b for i in x]\n",
    "    linear_equation_as_string = \"$\\hat{y}$ = \" + \"{:.2f}\".format(a) +\" * $x$ \" + \"{:.2f}\".format(b)\n",
    "    plt.text(x[-1], y[0], linear_equation_as_string, color=\"blue\", ha=\"right\", va=\"bottom\")\n",
    "    if plot_error:\n",
    "            for i in range(0,len(x)):\n",
    "                plt.plot([x[i],x[i]], [y[i],y_estimated[i]], \"r\")\n",
    "                quadratic_error = calculate_quadratic_error(y=y, y_estimated=y_estimated)\n",
    "                quadratic_error_equation_as_string = \"$e = \\sum_{i=0}^n (y_i - \\hat{y}_i)^2$ = \" + \"{:.2f}\".format(quadratic_error)\n",
    "                plt.text(x[-1], y[0]+1, quadratic_error_equation_as_string, color=\"red\", ha=\"right\", va=\"bottom\")\n",
    "    plt.plot(x, y_estimated, \"b\")\n",
    "    \n",
    "def calculate_quadratic_error(y, y_estimated):\n",
    "    return np.sum((y-y_estimated)**2)\n",
    "    \n",
    "fig = plt.figure(figsize=(8, 8))\n",
    "plot_data(\n",
    "    x=sand_granules_diameter,\n",
    "    y=beach_slope,\n",
    "    xlabel=\"sand granules diameter [mm]\",\n",
    "    ylabel=\"beach slope [$^\\circ$]\")\n",
    "fig.savefig(\"images/plot1.png\")\n",
    "\n",
    "\n"
   ]
  },
  {
   "cell_type": "markdown",
   "metadata": {
    "slideshow": {
     "slide_type": "slide"
    }
   },
   "source": [
    "# How steap is your shore?\n",
    "---\n",
    "![](images/plot1.png)\n",
    "<sub><sup>Source: http://college.cengage.com/mathematics/brase/understandable_statistics/7e/students/datasets/</sup></sub>"
   ]
  },
  {
   "cell_type": "code",
   "execution_count": 2,
   "metadata": {
    "slideshow": {
     "slide_type": "skip"
    }
   },
   "outputs": [],
   "source": [
    "fig = plt.figure(figsize=(8, 8))\n",
    "plot_regression(\n",
    "    x=sand_granules_diameter,\n",
    "    y=beach_slope,\n",
    "    relative_regression_error_a=0.0,\n",
    "    plot_error=False\n",
    ")\n",
    "plot_data(\n",
    "    x=sand_granules_diameter,\n",
    "    y=beach_slope,\n",
    "    xlabel=\"sand granules diameter [mm]\",\n",
    "    ylabel=\"beach slope [$^\\circ$]\")\n",
    "fig.savefig(\"images/plot2.png\")"
   ]
  },
  {
   "cell_type": "markdown",
   "metadata": {
    "slideshow": {
     "slide_type": "subslide"
    }
   },
   "source": [
    "# How steap is your shore?\n",
    "---\n",
    "![](images/plot2.png)"
   ]
  },
  {
   "cell_type": "code",
   "execution_count": 3,
   "metadata": {
    "slideshow": {
     "slide_type": "skip"
    }
   },
   "outputs": [],
   "source": [
    "fig = plt.figure(figsize=(8, 8))\n",
    "plot_regression(\n",
    "    x=sand_granules_diameter,\n",
    "    y=beach_slope,\n",
    "    relative_regression_error_a=0.0,\n",
    "    plot_error=True\n",
    ")\n",
    "plot_data(\n",
    "    x=sand_granules_diameter,\n",
    "    y=beach_slope,\n",
    "    xlabel=\"sand granules diameter [mm]\",\n",
    "    ylabel=\"beach slope [$^\\circ$]\")\n",
    "fig.savefig(\"images/plot3.png\")"
   ]
  },
  {
   "cell_type": "markdown",
   "metadata": {
    "slideshow": {
     "slide_type": "subslide"
    }
   },
   "source": [
    "# How steap is your shore?\n",
    "---\n",
    "![](images/plot3.png) "
   ]
  },
  {
   "cell_type": "code",
   "execution_count": null,
   "metadata": {
    "slideshow": {
     "slide_type": "skip"
    }
   },
   "outputs": [],
   "source": []
  }
 ],
 "metadata": {
  "celltoolbar": "Slideshow",
  "kernelspec": {
   "display_name": "Python 2",
   "language": "python",
   "name": "python2"
  },
  "language_info": {
   "codemirror_mode": {
    "name": "ipython",
    "version": 2
   },
   "file_extension": ".py",
   "mimetype": "text/x-python",
   "name": "python",
   "nbconvert_exporter": "python",
   "pygments_lexer": "ipython2",
   "version": "2.7.13"
  },
  "livereveal": {}
 },
 "nbformat": 4,
 "nbformat_minor": 2
}
