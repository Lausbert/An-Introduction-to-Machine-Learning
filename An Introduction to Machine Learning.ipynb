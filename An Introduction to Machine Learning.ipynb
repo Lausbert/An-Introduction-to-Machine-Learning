{
 "cells": [
  {
   "cell_type": "markdown",
   "metadata": {
    "slideshow": {
     "slide_type": "slide"
    }
   },
   "source": [
    "# An Introduction to Machine Learning\n",
    "---\n",
    "![](images/tweet.png)\n",
    "![](images/googletrend.png)\n",
    "<sub><sup>Source: https://twitter.com/fchollet</sup></sub>"
   ]
  },
  {
   "cell_type": "code",
   "execution_count": 1,
   "metadata": {
    "slideshow": {
     "slide_type": "skip"
    }
   },
   "outputs": [],
   "source": [
    "import pandas as pd\n",
    "import numpy as np\n",
    "import matplotlib.pyplot as plt\n",
    "\n",
    "SMALL_SIZE = 18\n",
    "MEDIUM_SIZE = 20\n",
    "BIGGER_SIZE = 22\n",
    "\n",
    "plt.rc('font', size=SMALL_SIZE)          # controls default text sizes\n",
    "plt.rc('axes', titlesize=SMALL_SIZE)     # fontsize of the axes title\n",
    "plt.rc('axes', labelsize=MEDIUM_SIZE)    # fontsize of the x and y labels\n",
    "plt.rc('xtick', labelsize=SMALL_SIZE)    # fontsize of the tick labels\n",
    "plt.rc('ytick', labelsize=SMALL_SIZE)    # fontsize of the tick labels\n",
    "plt.rc('legend', fontsize=SMALL_SIZE)    # legend fontsize\n",
    "plt.rc('figure', titlesize=BIGGER_SIZE)  # fontsize of the figure title\n",
    "\n",
    "dataframe = pd.read_csv(\"data/slr03.csv\")\n",
    "data = dataframe.values[:,:]\n",
    "sand_granules_diameter = data[:,0]\n",
    "beach_slope = data[:,1]\n",
    "\n",
    "def plot_data(axis):\n",
    "    global sand_granules_diameter, beach_slope\n",
    "    axis.set_xlabel(\"sand granules diameter [mm]\")\n",
    "    axis.set_ylabel(\"beach slope [$^\\circ$]\")\n",
    "    axis.plot(sand_granules_diameter, beach_slope, \"ko\")  \n",
    "    axis.set_ylim(axis.get_ylim()[0], 17)\n",
    "    \n",
    "def plot_regression(axis, should_plot_error, a = 1, b = 1, relative_regression_error_a = \"NA\"):\n",
    "    global sand_granules_diameter, beach_slope\n",
    "    if relative_regression_error_a is not \"NA\":\n",
    "        a, b = np.polyfit(sand_granules_diameter, beach_slope, 1)\n",
    "        a = (1 + relative_regression_error_a)*a\n",
    "    beach_slope_estimated = [a*i + b for i in sand_granules_diameter]\n",
    "    linear_equation_as_string = \"$\\hat{y}$ = \" + \"{:.2f}\".format(a) +\" * $x$ \" + \"{:.2f}\".format(b)\n",
    "    axis.text(sand_granules_diameter[-1], b, linear_equation_as_string, color=\"blue\", ha=\"right\", va=\"bottom\", size=18)\n",
    "    quadratic_error = 0\n",
    "    if should_plot_error:\n",
    "            for i in range(0,len(sand_granules_diameter)):\n",
    "                axis.plot([sand_granules_diameter[i],sand_granules_diameter[i]], [beach_slope[i],beach_slope_estimated[i]], \"r\")\n",
    "                quadratic_error = calculate_quadratic_error(y=beach_slope, y_estimated=beach_slope_estimated)\n",
    "                quadratic_error_equation_as_string = \"$e = \\sum_{i=0}^n (y_i - \\hat{y}_i)^2$ = \" + \"{:.2f}\".format(quadratic_error)\n",
    "                axis.text(sand_granules_diameter[-1], b+1, quadratic_error_equation_as_string, color=\"red\", ha=\"right\", va=\"bottom\", size=18)\n",
    "    sand_granules_diameter_temp = np.insert(sand_granules_diameter,0,0)   \n",
    "    beach_slope_estimated = np.insert(beach_slope_estimated,0,b)\n",
    "    axis.plot(sand_granules_diameter_temp, beach_slope_estimated, \"b\")\n",
    "    axis.set_ylim(axis.get_ylim()[0], 17)\n",
    "    return (a, b, quadratic_error)\n",
    "    \n",
    "def calculate_quadratic_error(y, y_estimated):\n",
    "    return np.sum((y-y_estimated)**2)\n",
    "\n",
    "def plot_error_graph(axis):\n",
    "    global sand_granules_diameter, beach_slope\n",
    "    axis.set_xlabel(\"line slope $a$ [$^\\circ$/mm]\")\n",
    "    axis.set_ylabel(\"sum of squared errors $e$ [$^{\\circ 2}$]\")\n",
    "    a,b = np.polyfit(sand_granules_diameter, beach_slope, 1)\n",
    "    a_s = []\n",
    "    quadratic_errors = []\n",
    "    for i in range(-35,36):\n",
    "        a_temp = ((100.0+float(i))/100.0) * a\n",
    "        beach_slope_estimated = [a_temp*i + b for i in sand_granules_diameter]\n",
    "        quadratic_error = calculate_quadratic_error(y=beach_slope, y_estimated=beach_slope_estimated)\n",
    "        a_s.append(a_temp)\n",
    "        quadratic_errors.append(quadratic_error)\n",
    "    axis.plot(a_s, quadratic_errors, \"gray\")\n",
    "    c, d, e = np.polyfit(a_s, quadratic_errors, 2)\n",
    "    return (c, d, e)\n",
    "    \n",
    "def plot_error_point(axis, a, quadratic_error):\n",
    "    y_lim_bottom = axis.get_ylim()[0]\n",
    "    x_lim_bottom = axis.get_xlim()[0]\n",
    "    axis.plot([a, a], [y_lim_bottom, quadratic_error], \"b\")\n",
    "    axis.plot([x_lim_bottom, a], [quadratic_error, quadratic_error], \"r\")\n",
    "    axis.plot(a, quadratic_error, \"o\", color=\"gray\")\n",
    "    axis.set_ylim(y_lim_bottom, axis.get_ylim()[1])\n",
    "    axis.set_xlim(x_lim_bottom, 37)\n",
    "    \n",
    "def calculate_gradient_of_parabola(a, c, d):\n",
    "    return 2*c*a + d\n",
    "    \n",
    "def plot_gradient_of_parabola(axis, a, quadratic_error, gradient):\n",
    "    x_lim_bottom = axis.get_xlim()[0]\n",
    "    axis.annotate(\"\", xy=(a + gradient, quadratic_error), xycoords='data', xytext=(a, quadratic_error), textcoords='data', arrowprops=dict(arrowstyle=\"->\", connectionstyle=\"arc3\", color=\"black\"))\n",
    "    axis.set_xlim(x_lim_bottom, 37)\n",
    "    "
   ]
  },
  {
   "cell_type": "code",
   "execution_count": 2,
   "metadata": {},
   "outputs": [],
   "source": [
    "fig, ax = plt.subplots(figsize=(8, 8))\n",
    "plot_data(\n",
    "    axis=ax\n",
    ")\n",
    "fig.savefig(\"images/plot1.png\")"
   ]
  },
  {
   "cell_type": "markdown",
   "metadata": {
    "slideshow": {
     "slide_type": "slide"
    }
   },
   "source": [
    "# How steap is your shore?\n",
    "---\n",
    "![](images/plot1.png)\n",
    "<sub><sup>Source: http://college.cengage.com/mathematics/brase/understandable_statistics/7e/students/datasets/</sup></sub>"
   ]
  },
  {
   "cell_type": "code",
   "execution_count": 3,
   "metadata": {
    "slideshow": {
     "slide_type": "skip"
    }
   },
   "outputs": [],
   "source": [
    "fig, ax = plt.subplots(figsize=(8, 8))\n",
    "plot_regression(\n",
    "    axis=ax,\n",
    "    relative_regression_error_a=0.0,\n",
    "    should_plot_error=False\n",
    ")\n",
    "plot_data(\n",
    "    axis=ax\n",
    ")\n",
    "fig.savefig(\"images/plot2.png\")"
   ]
  },
  {
   "cell_type": "markdown",
   "metadata": {
    "slideshow": {
     "slide_type": "subslide"
    }
   },
   "source": [
    "# How steap is your shore?\n",
    "---\n",
    "![](images/plot2.png)"
   ]
  },
  {
   "cell_type": "code",
   "execution_count": 4,
   "metadata": {
    "slideshow": {
     "slide_type": "skip"
    }
   },
   "outputs": [],
   "source": [
    "fig, ax = plt.subplots(figsize=(8, 8))\n",
    "plot_regression(\n",
    "    axis=ax,\n",
    "    relative_regression_error_a=0.0,\n",
    "    should_plot_error=True\n",
    ")\n",
    "plot_data(\n",
    "    axis=ax\n",
    ")\n",
    "fig.savefig(\"images/plot3.png\")"
   ]
  },
  {
   "cell_type": "markdown",
   "metadata": {
    "slideshow": {
     "slide_type": "subslide"
    }
   },
   "source": [
    "# How steap is your shore?\n",
    "---\n",
    "![](images/plot3.png) "
   ]
  },
  {
   "cell_type": "code",
   "execution_count": 5,
   "metadata": {
    "slideshow": {
     "slide_type": "skip"
    }
   },
   "outputs": [],
   "source": [
    "relative_regression_error_a=0.3\n",
    "fig, (ax1, ax2) = plt.subplots(1, 2, figsize=(16, 8))\n",
    "a, b, quadratic_error = plot_regression(\n",
    "    axis=ax1,\n",
    "    relative_regression_error_a=relative_regression_error_a,\n",
    "    should_plot_error=True\n",
    ")\n",
    "plot_data(\n",
    "    axis=ax1\n",
    ")\n",
    "c, d, e = plot_error_graph(\n",
    "    axis=ax2\n",
    ")\n",
    "plot_error_point(\n",
    "    axis=ax2,\n",
    "    a=a,\n",
    "    quadratic_error=quadratic_error\n",
    ")\n",
    "fig.savefig(\"images/plot4.png\")"
   ]
  },
  {
   "cell_type": "markdown",
   "metadata": {
    "slideshow": {
     "slide_type": "slide"
    }
   },
   "source": [
    "# Always go downhill\n",
    "---\n",
    "![](images/plot4.png) "
   ]
  },
  {
   "cell_type": "code",
   "execution_count": 6,
   "metadata": {
    "slideshow": {
     "slide_type": "skip"
    }
   },
   "outputs": [],
   "source": [
    "fig, (ax1, ax2) = plt.subplots(1, 2, figsize=(16, 8))\n",
    "a, b, quadratic_error = plot_regression(\n",
    "    axis=ax1,\n",
    "    relative_regression_error_a=relative_regression_error_a,\n",
    "    should_plot_error=True\n",
    ")\n",
    "plot_data(\n",
    "    axis=ax1\n",
    ")\n",
    "c, d, e = plot_error_graph(\n",
    "    axis=ax2\n",
    ")\n",
    "gradient = calculate_gradient_of_parabola(\n",
    "    a=a,\n",
    "    c=c,\n",
    "    d=d\n",
    ")\n",
    "plot_gradient_of_parabola(\n",
    "    axis=ax2,\n",
    "    a=a,\n",
    "    quadratic_error=quadratic_error,\n",
    "    gradient = gradient\n",
    ")\n",
    "plot_error_point(\n",
    "    axis=ax2,\n",
    "    a=a,\n",
    "    quadratic_error=quadratic_error\n",
    ")\n",
    "ax2.text((2*a + gradient)/2, quadratic_error, \"$e'(22.31)$ = \" + \"{:.2f}\".format(gradient), color=\"black\", ha=\"center\", va=\"bottom\", size=18)\n",
    "fig.savefig(\"images/plot5.png\")"
   ]
  },
  {
   "cell_type": "markdown",
   "metadata": {
    "slideshow": {
     "slide_type": "subslide"
    }
   },
   "source": [
    "# Always go downhill\n",
    "---\n",
    "![](images/plot5.png) "
   ]
  },
  {
   "cell_type": "code",
   "execution_count": 7,
   "metadata": {
    "slideshow": {
     "slide_type": "skip"
    }
   },
   "outputs": [],
   "source": [
    "step_length = 0.2\n",
    "fig, (ax1, ax2) = plt.subplots(1, 2, figsize=(16, 8))\n",
    "a, b, quadratic_error = plot_regression(\n",
    "    axis=ax1,\n",
    "    relative_regression_error_a=relative_regression_error_a,\n",
    "    should_plot_error=True\n",
    ")\n",
    "plot_data(\n",
    "    axis=ax1\n",
    ")\n",
    "c, d, e = plot_error_graph(\n",
    "    axis=ax2\n",
    ")\n",
    "gradient = calculate_gradient_of_parabola(\n",
    "    a=a,\n",
    "    c=c,\n",
    "    d=d\n",
    ")\n",
    "plot_gradient_of_parabola(\n",
    "    axis=ax2,\n",
    "    a=a,\n",
    "    quadratic_error=quadratic_error,\n",
    "    gradient = gradient\n",
    ")\n",
    "plot_gradient_of_parabola(\n",
    "    axis=ax2,\n",
    "    a=a,\n",
    "    quadratic_error=quadratic_error,\n",
    "    gradient = -step_length*gradient\n",
    ")\n",
    "plot_error_point(\n",
    "    axis=ax2,\n",
    "    a=a,\n",
    "    quadratic_error=quadratic_error\n",
    ")\n",
    "ax2.text((2*a + gradient)/2, quadratic_error, \"$e'$(\" + \"{:.2f}\".format(a) + \") = \" + \"{:.2f}\".format(gradient), color=\"black\", ha=\"center\", va=\"bottom\", size=18)\n",
    "ax2.text((2*a - step_length*gradient)/2, quadratic_error, \"{:.2f}\".format(-step_length*gradient), color=\"black\", ha=\"center\", va=\"bottom\", size=18)\n",
    "fig.savefig(\"images/plot6.png\")\n",
    "a = a - step_length*gradient"
   ]
  },
  {
   "cell_type": "markdown",
   "metadata": {
    "slideshow": {
     "slide_type": "subslide"
    }
   },
   "source": [
    "# Always go downhill\n",
    "---\n",
    "![](images/plot6.png) "
   ]
  },
  {
   "cell_type": "code",
   "execution_count": 8,
   "metadata": {
    "slideshow": {
     "slide_type": "skip"
    }
   },
   "outputs": [],
   "source": [
    "fig, (ax1, ax2) = plt.subplots(1, 2, figsize=(16, 8))\n",
    "_, _, quadratic_error = plot_regression(\n",
    "    axis=ax1,\n",
    "    a=a,\n",
    "    b=b,\n",
    "    should_plot_error=True\n",
    ")\n",
    "plot_data(\n",
    "    axis=ax1\n",
    ")\n",
    "c, d, e = plot_error_graph(\n",
    "    axis=ax2\n",
    ")\n",
    "gradient = calculate_gradient_of_parabola(\n",
    "    a=a,\n",
    "    c=c,\n",
    "    d=d\n",
    ")\n",
    "plot_gradient_of_parabola(\n",
    "    axis=ax2,\n",
    "    a=a,\n",
    "    quadratic_error=quadratic_error,\n",
    "    gradient = -step_length*gradient\n",
    ")\n",
    "plot_error_point(\n",
    "    axis=ax2,\n",
    "    a=a,\n",
    "    quadratic_error=quadratic_error\n",
    ")\n",
    "ax2.text((2*a - step_length*gradient)/2, quadratic_error, \"{:.2f}\".format(-step_length*gradient), color=\"black\", ha=\"center\", va=\"bottom\", size=18)\n",
    "fig.savefig(\"images/plot7.png\")\n",
    "a = a - step_length*gradient"
   ]
  },
  {
   "cell_type": "code",
   "execution_count": 9,
   "metadata": {
    "slideshow": {
     "slide_type": "skip"
    }
   },
   "outputs": [],
   "source": [
    "fig, (ax1, ax2) = plt.subplots(1, 2, figsize=(16, 8))\n",
    "_, _, quadratic_error = plot_regression(\n",
    "    axis=ax1,\n",
    "    a=a,\n",
    "    b=b,\n",
    "    should_plot_error=True\n",
    ")\n",
    "plot_data(\n",
    "    axis=ax1\n",
    ")\n",
    "c, d, e = plot_error_graph(\n",
    "    axis=ax2\n",
    ")\n",
    "gradient = calculate_gradient_of_parabola(\n",
    "    a=a,\n",
    "    c=c,\n",
    "    d=d\n",
    ")\n",
    "plot_gradient_of_parabola(\n",
    "    axis=ax2,\n",
    "    a=a,\n",
    "    quadratic_error=quadratic_error,\n",
    "    gradient = -step_length*gradient\n",
    ")\n",
    "plot_error_point(\n",
    "    axis=ax2,\n",
    "    a=a,\n",
    "    quadratic_error=quadratic_error\n",
    ")\n",
    "ax2.text((2*a - step_length*gradient)/2, quadratic_error, \"{:.2f}\".format(-step_length*gradient), color=\"black\", ha=\"center\", va=\"bottom\", size=18)\n",
    "fig.savefig(\"images/plot8.png\")\n",
    "a = a - step_length*gradient"
   ]
  },
  {
   "cell_type": "code",
   "execution_count": 10,
   "metadata": {
    "slideshow": {
     "slide_type": "skip"
    }
   },
   "outputs": [],
   "source": [
    "fig, (ax1, ax2) = plt.subplots(1, 2, figsize=(16, 8))\n",
    "_, _, quadratic_error = plot_regression(\n",
    "    axis=ax1,\n",
    "    a=a,\n",
    "    b=b,\n",
    "    should_plot_error=True\n",
    ")\n",
    "plot_data(\n",
    "    axis=ax1\n",
    ")\n",
    "c, d, e = plot_error_graph(\n",
    "    axis=ax2\n",
    ")\n",
    "gradient = calculate_gradient_of_parabola(\n",
    "    a=a,\n",
    "    c=c,\n",
    "    d=d\n",
    ")\n",
    "plot_gradient_of_parabola(\n",
    "    axis=ax2,\n",
    "    a=a,\n",
    "    quadratic_error=quadratic_error,\n",
    "    gradient = -step_length*gradient\n",
    ")\n",
    "plot_error_point(\n",
    "    axis=ax2,\n",
    "    a=a,\n",
    "    quadratic_error=quadratic_error\n",
    ")\n",
    "ax2.text((2*a - step_length*gradient)/2, quadratic_error, \"{:.2f}\".format(-step_length*gradient), color=\"black\", ha=\"center\", va=\"bottom\", size=18)\n",
    "fig.savefig(\"images/plot9.png\")\n",
    "a = a - step_length*gradient"
   ]
  },
  {
   "cell_type": "code",
   "execution_count": 11,
   "metadata": {
    "slideshow": {
     "slide_type": "skip"
    }
   },
   "outputs": [],
   "source": [
    "fig, (ax1, ax2) = plt.subplots(1, 2, figsize=(16, 8))\n",
    "_, _, quadratic_error = plot_regression(\n",
    "    axis=ax1,\n",
    "    a=a,\n",
    "    b=b,\n",
    "    should_plot_error=True\n",
    ")\n",
    "plot_data(\n",
    "    axis=ax1\n",
    ")\n",
    "c, d, e = plot_error_graph(\n",
    "    axis=ax2\n",
    ")\n",
    "gradient = calculate_gradient_of_parabola(\n",
    "    a=a,\n",
    "    c=c,\n",
    "    d=d\n",
    ")\n",
    "plot_gradient_of_parabola(\n",
    "    axis=ax2,\n",
    "    a=a,\n",
    "    quadratic_error=quadratic_error,\n",
    "    gradient = -step_length*gradient\n",
    ")\n",
    "plot_error_point(\n",
    "    axis=ax2,\n",
    "    a=a,\n",
    "    quadratic_error=quadratic_error\n",
    ")\n",
    "ax2.text((2*a - step_length*gradient)/2, quadratic_error, \"{:.2f}\".format(-step_length*gradient), color=\"black\", ha=\"center\", va=\"bottom\", size=18)\n",
    "fig.savefig(\"images/plot10.png\")\n",
    "a = a - step_length*gradient"
   ]
  },
  {
   "cell_type": "code",
   "execution_count": 12,
   "metadata": {
    "slideshow": {
     "slide_type": "skip"
    }
   },
   "outputs": [
    {
     "ename": "SyntaxError",
     "evalue": "EOL while scanning string literal (<ipython-input-12-56b06a9704ef>, line 11)",
     "output_type": "error",
     "traceback": [
      "\u001b[0;36m  File \u001b[0;32m\"<ipython-input-12-56b06a9704ef>\"\u001b[0;36m, line \u001b[0;32m11\u001b[0m\n\u001b[0;31m    output_file = \"gradient_descent.gif2\u001b[0m\n\u001b[0m                                       ^\u001b[0m\n\u001b[0;31mSyntaxError\u001b[0m\u001b[0;31m:\u001b[0m EOL while scanning string literal\n"
     ]
    }
   ],
   "source": [
    "import sys\n",
    "import datetime\n",
    "import imageio\n",
    "\n",
    "filenames = [\"images/plot6.png\",\"images/plot7.png\",\"images/plot8.png\",\"images/plot9.png\",\"images/plot10.png\"]\n",
    "\n",
    "def create_gif(filenames, duration):\n",
    "    images = []\n",
    "    for filename in filenames:\n",
    "        images.append(imageio.imread(filename))\n",
    "    output_file = \"gradient_descent.gif2\n",
    "    imageio.mimsave(output_file, images, duration=duration)\n",
    "    \n",
    "create_gif(filenames=filenames, duration=1)"
   ]
  },
  {
   "cell_type": "markdown",
   "metadata": {
    "slideshow": {
     "slide_type": "subslide"
    }
   },
   "source": [
    "# Always go downhill\n",
    "---\n",
    "![](gradient_descent.gif) "
   ]
  },
  {
   "cell_type": "code",
   "execution_count": null,
   "metadata": {
    "slideshow": {
     "slide_type": "skip"
    }
   },
   "outputs": [],
   "source": []
  }
 ],
 "metadata": {
  "celltoolbar": "Slideshow",
  "kernelspec": {
   "display_name": "Python 2",
   "language": "python",
   "name": "python2"
  },
  "language_info": {
   "codemirror_mode": {
    "name": "ipython",
    "version": 2
   },
   "file_extension": ".py",
   "mimetype": "text/x-python",
   "name": "python",
   "nbconvert_exporter": "python",
   "pygments_lexer": "ipython2",
   "version": "2.7.13"
  },
  "livereveal": {}
 },
 "nbformat": 4,
 "nbformat_minor": 2
}
