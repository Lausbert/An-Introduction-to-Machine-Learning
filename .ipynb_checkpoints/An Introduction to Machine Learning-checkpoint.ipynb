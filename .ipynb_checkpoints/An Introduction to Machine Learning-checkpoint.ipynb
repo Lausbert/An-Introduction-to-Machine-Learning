{
 "cells": [
  {
   "cell_type": "markdown",
   "metadata": {
    "slideshow": {
     "slide_type": "slide"
    }
   },
   "source": [
    "# An Introduction to Machine Learning\n",
    "---\n",
    "![](images/tweet.png)\n",
    "![](images/googletrend.png)\n",
    "Source: https://twitter.com/fchollet"
   ]
  },
  {
   "cell_type": "code",
   "execution_count": 1,
   "metadata": {
    "slideshow": {
     "slide_type": "skip"
    }
   },
   "outputs": [],
   "source": [
    "import matplotlib.pyplot as plt\n",
    "import seaborn as sns\n",
    "\n",
    "iris = sns.load_dataset(\"iris\")    \n",
    "grid = sns.JointGrid(iris.petal_length, iris.petal_width, space=0, size=6, ratio=50)\n",
    "sns_plot = grid.plot_joint(plt.scatter, color=\"g\")\n",
    "plt.plot([0, 4], [1.5, 0], linewidth=2)\n",
    "sns_plot.savefig(\"images/plot.png\")\n"
   ]
  },
  {
   "cell_type": "markdown",
   "metadata": {
    "slideshow": {
     "slide_type": "slide"
    }
   },
   "source": [
    "# How steap is your shore?\n",
    "---\n",
    "![](images/plot.png)"
   ]
  },
  {
   "cell_type": "code",
   "execution_count": null,
   "metadata": {},
   "outputs": [],
   "source": []
  }
 ],
 "metadata": {
  "celltoolbar": "Slideshow",
  "kernelspec": {
   "display_name": "Python 2",
   "language": "python",
   "name": "python2"
  },
  "language_info": {
   "codemirror_mode": {
    "name": "ipython",
    "version": 2
   },
   "file_extension": ".py",
   "mimetype": "text/x-python",
   "name": "python",
   "nbconvert_exporter": "python",
   "pygments_lexer": "ipython2",
   "version": "2.7.13"
  },
  "livereveal": {}
 },
 "nbformat": 4,
 "nbformat_minor": 2
}
